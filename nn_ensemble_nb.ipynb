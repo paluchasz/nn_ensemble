{
 "cells": [
  {
   "cell_type": "code",
   "execution_count": 222,
   "metadata": {},
   "outputs": [],
   "source": [
    "import pandas as pd\n",
    "import tensorflow as tf\n",
    "import numpy as np\n",
    "from scipy.stats import mode\n",
    "from sklearn.metrics import accuracy_score\n",
    "from matplotlib import pyplot as plt"
   ]
  },
  {
   "cell_type": "code",
   "execution_count": 130,
   "metadata": {},
   "outputs": [],
   "source": [
    "train = pd.read_csv(\"data/train.csv\")\n",
    "test = pd.read_csv(\"data/test.csv\")"
   ]
  },
  {
   "cell_type": "code",
   "execution_count": 243,
   "metadata": {},
   "outputs": [
    {
     "name": "stdout",
     "output_type": "stream",
     "text": [
      "(30000, 394) (10000, 394)\n"
     ]
    },
    {
     "data": {
      "text/html": [
       "<div>\n",
       "<style scoped>\n",
       "    .dataframe tbody tr th:only-of-type {\n",
       "        vertical-align: middle;\n",
       "    }\n",
       "\n",
       "    .dataframe tbody tr th {\n",
       "        vertical-align: top;\n",
       "    }\n",
       "\n",
       "    .dataframe thead th {\n",
       "        text-align: right;\n",
       "    }\n",
       "</style>\n",
       "<table border=\"1\" class=\"dataframe\">\n",
       "  <thead>\n",
       "    <tr style=\"text-align: right;\">\n",
       "      <th></th>\n",
       "      <th>X000</th>\n",
       "      <th>X001</th>\n",
       "      <th>X002</th>\n",
       "      <th>X003</th>\n",
       "      <th>X004</th>\n",
       "      <th>X005</th>\n",
       "      <th>X006</th>\n",
       "      <th>X007</th>\n",
       "      <th>X008</th>\n",
       "      <th>X009</th>\n",
       "      <th>...</th>\n",
       "      <th>X384</th>\n",
       "      <th>X385</th>\n",
       "      <th>X386</th>\n",
       "      <th>X387</th>\n",
       "      <th>X388</th>\n",
       "      <th>X389</th>\n",
       "      <th>X390</th>\n",
       "      <th>X391</th>\n",
       "      <th>X392</th>\n",
       "      <th>Y</th>\n",
       "    </tr>\n",
       "  </thead>\n",
       "  <tbody>\n",
       "    <tr>\n",
       "      <th>0</th>\n",
       "      <td>0.435294</td>\n",
       "      <td>0.568627</td>\n",
       "      <td>0.470588</td>\n",
       "      <td>0.239216</td>\n",
       "      <td>0.062745</td>\n",
       "      <td>0.003922</td>\n",
       "      <td>0.000000</td>\n",
       "      <td>0.000000</td>\n",
       "      <td>0.133333</td>\n",
       "      <td>0.321569</td>\n",
       "      <td>...</td>\n",
       "      <td>0.694118</td>\n",
       "      <td>0.000000</td>\n",
       "      <td>0.000000</td>\n",
       "      <td>0.000000</td>\n",
       "      <td>0.000000</td>\n",
       "      <td>0.000000</td>\n",
       "      <td>0.054902</td>\n",
       "      <td>0.243137</td>\n",
       "      <td>0.537255</td>\n",
       "      <td>5</td>\n",
       "    </tr>\n",
       "    <tr>\n",
       "      <th>1</th>\n",
       "      <td>0.290196</td>\n",
       "      <td>0.192157</td>\n",
       "      <td>0.098039</td>\n",
       "      <td>0.039216</td>\n",
       "      <td>0.011765</td>\n",
       "      <td>0.000000</td>\n",
       "      <td>0.000000</td>\n",
       "      <td>0.000000</td>\n",
       "      <td>0.482353</td>\n",
       "      <td>0.627451</td>\n",
       "      <td>...</td>\n",
       "      <td>0.278431</td>\n",
       "      <td>0.007843</td>\n",
       "      <td>0.019608</td>\n",
       "      <td>0.035294</td>\n",
       "      <td>0.054902</td>\n",
       "      <td>0.082353</td>\n",
       "      <td>0.133333</td>\n",
       "      <td>0.141176</td>\n",
       "      <td>0.098039</td>\n",
       "      <td>0</td>\n",
       "    </tr>\n",
       "    <tr>\n",
       "      <th>2</th>\n",
       "      <td>0.000000</td>\n",
       "      <td>0.000000</td>\n",
       "      <td>0.000000</td>\n",
       "      <td>0.000000</td>\n",
       "      <td>0.003922</td>\n",
       "      <td>0.027451</td>\n",
       "      <td>0.082353</td>\n",
       "      <td>0.184314</td>\n",
       "      <td>0.000000</td>\n",
       "      <td>0.000000</td>\n",
       "      <td>...</td>\n",
       "      <td>0.380392</td>\n",
       "      <td>0.007843</td>\n",
       "      <td>0.050980</td>\n",
       "      <td>0.164706</td>\n",
       "      <td>0.301961</td>\n",
       "      <td>0.400000</td>\n",
       "      <td>0.443137</td>\n",
       "      <td>0.415686</td>\n",
       "      <td>0.360784</td>\n",
       "      <td>4</td>\n",
       "    </tr>\n",
       "    <tr>\n",
       "      <th>3</th>\n",
       "      <td>0.745098</td>\n",
       "      <td>0.952941</td>\n",
       "      <td>0.870588</td>\n",
       "      <td>0.329412</td>\n",
       "      <td>0.035294</td>\n",
       "      <td>0.000000</td>\n",
       "      <td>0.000000</td>\n",
       "      <td>0.000000</td>\n",
       "      <td>0.000000</td>\n",
       "      <td>0.058824</td>\n",
       "      <td>...</td>\n",
       "      <td>0.000000</td>\n",
       "      <td>0.015686</td>\n",
       "      <td>0.211765</td>\n",
       "      <td>0.341176</td>\n",
       "      <td>0.800000</td>\n",
       "      <td>0.101961</td>\n",
       "      <td>0.000000</td>\n",
       "      <td>0.000000</td>\n",
       "      <td>0.000000</td>\n",
       "      <td>1</td>\n",
       "    </tr>\n",
       "    <tr>\n",
       "      <th>4</th>\n",
       "      <td>0.000000</td>\n",
       "      <td>0.000000</td>\n",
       "      <td>0.000000</td>\n",
       "      <td>0.000000</td>\n",
       "      <td>0.000000</td>\n",
       "      <td>0.000000</td>\n",
       "      <td>0.000000</td>\n",
       "      <td>0.000000</td>\n",
       "      <td>0.000000</td>\n",
       "      <td>0.000000</td>\n",
       "      <td>...</td>\n",
       "      <td>0.000000</td>\n",
       "      <td>0.000000</td>\n",
       "      <td>0.000000</td>\n",
       "      <td>0.000000</td>\n",
       "      <td>0.000000</td>\n",
       "      <td>0.000000</td>\n",
       "      <td>0.000000</td>\n",
       "      <td>0.000000</td>\n",
       "      <td>0.000000</td>\n",
       "      <td>9</td>\n",
       "    </tr>\n",
       "  </tbody>\n",
       "</table>\n",
       "<p>5 rows × 394 columns</p>\n",
       "</div>"
      ],
      "text/plain": [
       "       X000      X001      X002      X003      X004      X005      X006  \\\n",
       "0  0.435294  0.568627  0.470588  0.239216  0.062745  0.003922  0.000000   \n",
       "1  0.290196  0.192157  0.098039  0.039216  0.011765  0.000000  0.000000   \n",
       "2  0.000000  0.000000  0.000000  0.000000  0.003922  0.027451  0.082353   \n",
       "3  0.745098  0.952941  0.870588  0.329412  0.035294  0.000000  0.000000   \n",
       "4  0.000000  0.000000  0.000000  0.000000  0.000000  0.000000  0.000000   \n",
       "\n",
       "       X007      X008      X009  ...      X384      X385      X386      X387  \\\n",
       "0  0.000000  0.133333  0.321569  ...  0.694118  0.000000  0.000000  0.000000   \n",
       "1  0.000000  0.482353  0.627451  ...  0.278431  0.007843  0.019608  0.035294   \n",
       "2  0.184314  0.000000  0.000000  ...  0.380392  0.007843  0.050980  0.164706   \n",
       "3  0.000000  0.000000  0.058824  ...  0.000000  0.015686  0.211765  0.341176   \n",
       "4  0.000000  0.000000  0.000000  ...  0.000000  0.000000  0.000000  0.000000   \n",
       "\n",
       "       X388      X389      X390      X391      X392  Y  \n",
       "0  0.000000  0.000000  0.054902  0.243137  0.537255  5  \n",
       "1  0.054902  0.082353  0.133333  0.141176  0.098039  0  \n",
       "2  0.301961  0.400000  0.443137  0.415686  0.360784  4  \n",
       "3  0.800000  0.101961  0.000000  0.000000  0.000000  1  \n",
       "4  0.000000  0.000000  0.000000  0.000000  0.000000  9  \n",
       "\n",
       "[5 rows x 394 columns]"
      ]
     },
     "execution_count": 243,
     "metadata": {},
     "output_type": "execute_result"
    }
   ],
   "source": [
    "print(train.shape, test.shape)\n",
    "train.head()"
   ]
  },
  {
   "cell_type": "code",
   "execution_count": 10,
   "metadata": {},
   "outputs": [
    {
     "data": {
      "text/plain": [
       "array([5, 0, 4, 1, 9, 2, 3, 6, 7, 8])"
      ]
     },
     "execution_count": 10,
     "metadata": {},
     "output_type": "execute_result"
    }
   ],
   "source": [
    "train[\"Y\"].unique() # check number of labels"
   ]
  },
  {
   "cell_type": "code",
   "execution_count": 162,
   "metadata": {},
   "outputs": [
    {
     "name": "stdout",
     "output_type": "stream",
     "text": [
      "(27000, 392) (27000, 1)\n"
     ]
    }
   ],
   "source": [
    "# Should shuffle the examples too\n",
    "val_split = 0.1\n",
    "val_num = int(len(train) * val_split)\n",
    "\n",
    "val_x = train.iloc[:val_num, 1:393].to_numpy()\n",
    "val_y = train.iloc[:val_num, 393:394].to_numpy()\n",
    "train_x = train.iloc[val_num:, 1:393].to_numpy()\n",
    "train_y = train.iloc[val_num:, 393:394].to_numpy()\n",
    "test_x = test.iloc[:, 1:393].to_numpy()\n",
    "test_y = test.iloc[:, 393:394].to_numpy()\n",
    "print(train_x.shape, train_y.shape)"
   ]
  },
  {
   "cell_type": "code",
   "execution_count": 239,
   "metadata": {},
   "outputs": [],
   "source": [
    "class BaseModel:\n",
    "    # might be neater to subclass the keras model class\n",
    "    def __init__(self, layers: list):\n",
    "        self.layers = []\n",
    "        for layer in layers:\n",
    "            if layer[0] == \"dense\":\n",
    "                self.layers.append(tf.keras.layers.Dense(layer[1], activation=layer[2]))\n",
    "            elif layer[0] == \"dropout\":\n",
    "                self.layers.append(tf.keras.layers.Dropout(layer[1]))\n",
    "        self.model = tf.keras.models.Sequential(self.layers)\n",
    "    \n",
    "    \n",
    "    def train(self, train_data, val_data, parameters):\n",
    "        \"\"\"Takes in train and validation data as well as a class of hyper-parameters\"\"\"\n",
    "        loss_fn = tf.keras.losses.SparseCategoricalCrossentropy()\n",
    "        callback = tf.keras.callbacks.EarlyStopping(monitor='val_loss', patience=parameters.patience)\n",
    "        \n",
    "        self.model.compile(\n",
    "            optimizer=tf.keras.optimizers.Adam(learning_rate=parameters.learning_rate),\n",
    "            loss=loss_fn,\n",
    "            metrics=['accuracy'],\n",
    "            )\n",
    "        \n",
    "        history = self.model.fit(*train_data, validation_data=val_data, epochs=parameters.epochs, callbacks=[callback])\n",
    "        print(history)\n",
    "        return history\n",
    "\n",
    "    def predict(self, x, labels=True):\n",
    "        if labels:\n",
    "            return np.argmax(self.model.predict(x), axis=1)\n",
    "        return self.model.predict(x)\n",
    "            \n",
    "    \n",
    "class Ensemble:\n",
    "    \"\"\"Class for ensemble of models. Trains each model separately. Takes the majority vote for prediction.\"\"\"\n",
    "    def __init__(self, models: list):\n",
    "        self.models = models\n",
    "    \n",
    "    def train(self, train_data: tuple, val_data: tuple, parameters: list):\n",
    "        for i, (model, params) in enumerate(zip(self.models, parameters)):\n",
    "            print(f\"Training model {i + 1}\")\n",
    "            history = model.train(train_data, val_data, params)\n",
    "            plot_losses(history[\"losses\"])\n",
    "\n",
    "    \n",
    "    def predict(self, data):\n",
    "        preds = []\n",
    "        for model in self.models:\n",
    "            preds.append(model.predict(data))\n",
    "        preds = np.asarray(preds)\n",
    "        return mode(preds, 0).mode # take majority vote class label\n",
    "\n",
    "    def evaluate(self, x, y):\n",
    "        preds = self.predict(x)\n",
    "        accuracy = accuracy_score(y.flatten(), preds.flatten())\n",
    "        return accuracy\n",
    "\n",
    "\n",
    "class Parameters:\n",
    "    \"\"\"Useful object for storing model parameters.\"\"\"\n",
    "    def __init__(self, epochs=3, learning_rate=1e-3, patience=2):\n",
    "        self.epochs = epochs\n",
    "        self.learning_rate = learning_rate\n",
    "        self.patience = patience\n",
    "\n",
    "\n",
    "def plot_losses(losses, val_losses):\n",
    "    epochs = list(range(1, len(losses) + 1))\n",
    "    plt.plot(epochs, losses, label=\"train_loss\")\n",
    "    plt.plot(epochs, val_losses, label=\"val_loss\")\n",
    "    plt.xlabel(\"epoch\")\n",
    "    plt.ylabel(\"loss\")\n",
    "    plt.legend(loc=\"upper right\")\n",
    "    plt.show()"
   ]
  },
  {
   "cell_type": "code",
   "execution_count": 240,
   "metadata": {},
   "outputs": [],
   "source": [
    "# Try out 5 different models\n",
    "models = [\n",
    "    BaseModel([(\"dense\", 64, \"relu\"), (\"dropout\", 0.1), (\"dense\", 10, \"softmax\")]),\n",
    "    BaseModel([(\"dense\", 128, \"relu\"), (\"dropout\", 0.2), (\"dense\", 10, \"softmax\")]),\n",
    "    BaseModel([(\"dense\", 128, \"relu\"), (\"dense\", 64, \"relu\"), (\"dense\", 10, \"softmax\")]),\n",
    "    BaseModel([(\"dense\", 256, \"relu\"), (\"dropout\", 0.2), (\"dense\", 128, \"relu\"), (\"dropout\", 0.2), (\"dense\", 10, \"softmax\")]),\n",
    "    BaseModel([(\"dense\", 128, \"gelu\"), (\"dropout\", 0.2), (\"dense\", 128, \"gelu\"), (\"dropout\", 0.2), (\"dense\", 10, \"softmax\")])\n",
    "]\n",
    "parameters = [\n",
    "    Parameters(5, 4e-3),\n",
    "    Parameters(3, 1e-3), \n",
    "    Parameters(4, 2e-4, 3),\n",
    "    Parameters(4, 2e-3, 3),\n",
    "    Parameters(10, 3e-3, 3)\n",
    "    ]"
   ]
  },
  {
   "cell_type": "code",
   "execution_count": 241,
   "metadata": {},
   "outputs": [
    {
     "name": "stdout",
     "output_type": "stream",
     "text": [
      "Training model 1\n",
      "Epoch 1/5\n",
      "844/844 [==============================] - 1s 655us/step - loss: 1.1580 - accuracy: 0.6095 - val_loss: 0.8108 - val_accuracy: 0.7493\n",
      "Epoch 2/5\n",
      "844/844 [==============================] - 0s 587us/step - loss: 0.8353 - accuracy: 0.7274 - val_loss: 0.7143 - val_accuracy: 0.7840\n",
      "Epoch 3/5\n",
      "844/844 [==============================] - 0s 581us/step - loss: 0.7621 - accuracy: 0.7507 - val_loss: 0.6580 - val_accuracy: 0.7937\n",
      "Epoch 4/5\n",
      "844/844 [==============================] - 0s 583us/step - loss: 0.7179 - accuracy: 0.7633 - val_loss: 0.6263 - val_accuracy: 0.8090\n",
      "Epoch 5/5\n",
      "844/844 [==============================] - 0s 581us/step - loss: 0.6897 - accuracy: 0.7746 - val_loss: 0.6091 - val_accuracy: 0.8177\n",
      "<keras.callbacks.History object at 0x2c9427b50>\n"
     ]
    },
    {
     "data": {
      "image/png": "[encoded data removed]",
      "text/plain": [
       "<Figure size 432x288 with 1 Axes>"
      ]
     },
     "metadata": {
      "needs_background": "light"
     },
     "output_type": "display_data"
    },
    {
     "name": "stdout",
     "output_type": "stream",
     "text": [
      "Training model 2\n",
      "Epoch 1/3\n",
      "844/844 [==============================] - 1s 697us/step - loss: 1.2279 - accuracy: 0.5914 - val_loss: 0.8401 - val_accuracy: 0.7630\n",
      "Epoch 2/3\n",
      "844/844 [==============================] - 1s 630us/step - loss: 0.8090 - accuracy: 0.7475 - val_loss: 0.6444 - val_accuracy: 0.8173\n",
      "Epoch 3/3\n",
      "844/844 [==============================] - 1s 673us/step - loss: 0.6814 - accuracy: 0.7893 - val_loss: 0.5705 - val_accuracy: 0.8377\n",
      "<keras.callbacks.History object at 0x2c8b12460>\n"
     ]
    },
    {
     "data": {
      "image/png": "[encoded data removed]",
      "text/plain": [
       "<Figure size 432x288 with 1 Axes>"
      ]
     },
     "metadata": {
      "needs_background": "light"
     },
     "output_type": "display_data"
    },
    {
     "name": "stdout",
     "output_type": "stream",
     "text": [
      "Training model 3\n",
      "Epoch 1/4\n",
      "844/844 [==============================] - 1s 848us/step - loss: 1.4928 - accuracy: 0.5140 - val_loss: 1.1564 - val_accuracy: 0.6330\n",
      "Epoch 2/4\n",
      "844/844 [==============================] - 1s 727us/step - loss: 1.0066 - accuracy: 0.6941 - val_loss: 0.8911 - val_accuracy: 0.7427\n",
      "Epoch 3/4\n",
      "844/844 [==============================] - 1s 717us/step - loss: 0.8068 - accuracy: 0.7616 - val_loss: 0.7400 - val_accuracy: 0.7893\n",
      "Epoch 4/4\n",
      "844/844 [==============================] - 1s 725us/step - loss: 0.6880 - accuracy: 0.7961 - val_loss: 0.6636 - val_accuracy: 0.8107\n",
      "<keras.callbacks.History object at 0x2c8bb5370>\n"
     ]
    },
    {
     "data": {
      "image/png": "[encoded data removed]",
      "text/plain": [
       "<Figure size 432x288 with 1 Axes>"
      ]
     },
     "metadata": {
      "needs_background": "light"
     },
     "output_type": "display_data"
    },
    {
     "name": "stdout",
     "output_type": "stream",
     "text": [
      "Training model 4\n",
      "Epoch 1/4\n",
      "844/844 [==============================] - 1s 1ms/step - loss: 1.0741 - accuracy: 0.6356 - val_loss: 0.6207 - val_accuracy: 0.8163\n",
      "Epoch 2/4\n",
      "844/844 [==============================] - 1s 1ms/step - loss: 0.6612 - accuracy: 0.7890 - val_loss: 0.4966 - val_accuracy: 0.8410\n",
      "Epoch 3/4\n",
      "844/844 [==============================] - 1s 999us/step - loss: 0.5523 - accuracy: 0.8259 - val_loss: 0.4269 - val_accuracy: 0.8723\n",
      "Epoch 4/4\n",
      "844/844 [==============================] - 1s 997us/step - loss: 0.4798 - accuracy: 0.8450 - val_loss: 0.4274 - val_accuracy: 0.8673\n",
      "<keras.callbacks.History object at 0x2c8c60ca0>\n"
     ]
    },
    {
     "data": {
      "image/png": "[encoded data removed]",
      "text/plain": [
       "<Figure size 432x288 with 1 Axes>"
      ]
     },
     "metadata": {
      "needs_background": "light"
     },
     "output_type": "display_data"
    },
    {
     "name": "stdout",
     "output_type": "stream",
     "text": [
      "Training model 5\n",
      "Epoch 1/10\n",
      "844/844 [==============================] - 1s 963us/step - loss: 1.0497 - accuracy: 0.6419 - val_loss: 0.6247 - val_accuracy: 0.8027\n",
      "Epoch 2/10\n",
      "844/844 [==============================] - 1s 883us/step - loss: 0.6898 - accuracy: 0.7759 - val_loss: 0.5201 - val_accuracy: 0.8330\n",
      "Epoch 3/10\n",
      "844/844 [==============================] - 1s 900us/step - loss: 0.5948 - accuracy: 0.8059 - val_loss: 0.5040 - val_accuracy: 0.8410\n",
      "Epoch 4/10\n",
      "844/844 [==============================] - 1s 902us/step - loss: 0.5494 - accuracy: 0.8225 - val_loss: 0.4515 - val_accuracy: 0.8650\n",
      "Epoch 5/10\n",
      "844/844 [==============================] - 1s 894us/step - loss: 0.5237 - accuracy: 0.8314 - val_loss: 0.4450 - val_accuracy: 0.8633\n",
      "Epoch 6/10\n",
      "844/844 [==============================] - 1s 888us/step - loss: 0.5000 - accuracy: 0.8396 - val_loss: 0.4191 - val_accuracy: 0.8720\n",
      "Epoch 7/10\n",
      "844/844 [==============================] - 1s 891us/step - loss: 0.4751 - accuracy: 0.8449 - val_loss: 0.3979 - val_accuracy: 0.8827\n",
      "Epoch 8/10\n",
      "844/844 [==============================] - 1s 889us/step - loss: 0.4690 - accuracy: 0.8491 - val_loss: 0.3966 - val_accuracy: 0.8803\n",
      "Epoch 9/10\n",
      "844/844 [==============================] - 1s 892us/step - loss: 0.4589 - accuracy: 0.8520 - val_loss: 0.3768 - val_accuracy: 0.8870\n",
      "Epoch 10/10\n",
      "844/844 [==============================] - 1s 891us/step - loss: 0.4465 - accuracy: 0.8577 - val_loss: 0.3788 - val_accuracy: 0.8763\n",
      "<keras.callbacks.History object at 0x2c8d2b8e0>\n"
     ]
    },
    {
     "data": {
      "image/png": "[encoded data removed]",
      "text/plain": [
       "<Figure size 432x288 with 1 Axes>"
      ]
     },
     "metadata": {
      "needs_background": "light"
     },
     "output_type": "display_data"
    }
   ],
   "source": [
    "ensemble = Ensemble(models)\n",
    "ensemble.train((train_x, train_y), (val_x, val_y), parameters)"
   ]
  },
  {
   "cell_type": "code",
   "execution_count": 242,
   "metadata": {},
   "outputs": [
    {
     "name": "stdout",
     "output_type": "stream",
     "text": [
      "Val acc: 0.873, test acc: 0.7362\n"
     ]
    }
   ],
   "source": [
    "val_acc = ensemble.evaluate(val_x, val_y)\n",
    "test_acc = ensemble.evaluate(test_x, test_y)\n",
    "print(f\"Val acc: {val_acc}, test acc: {test_acc}\")"
   ]
  },
  {
   "cell_type": "code",
   "execution_count": null,
   "metadata": {},
   "outputs": [],
   "source": []
  }
 ],
 "metadata": {
  "interpreter": {
   "hash": "c6e0c075444bfb429086c7105882512567c2c94be59018a70bced31a77b85de6"
  },
  "kernelspec": {
   "display_name": "Python 3.8.10 64-bit ('neural_networks')",
   "language": "python",
   "name": "python3"
  },
  "language_info": {
   "codemirror_mode": {
    "name": "ipython",
    "version": 3
   },
   "file_extension": ".py",
   "mimetype": "text/x-python",
   "name": "python",
   "nbconvert_exporter": "python",
   "pygments_lexer": "ipython3",
   "version": "3.8.10"
  },
  "orig_nbformat": 4
 },
 "nbformat": 4,
 "nbformat_minor": 2
}
